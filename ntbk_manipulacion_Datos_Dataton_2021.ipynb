{
  "nbformat": 4,
  "nbformat_minor": 0,
  "metadata": {
    "colab": {
      "name": "ntbk_manipulacion_Datos_Dataton-2021.ipynb",
      "provenance": [],
      "collapsed_sections": [],
      "include_colab_link": true
    },
    "kernelspec": {
      "name": "python3",
      "display_name": "Python 3"
    },
    "language_info": {
      "name": "python"
    }
  },
  "cells": [
    {
      "cell_type": "markdown",
      "metadata": {
        "id": "view-in-github",
        "colab_type": "text"
      },
      "source": [
        "<a href=\"https://colab.research.google.com/github/Leriloe/Dataton/blob/main/ntbk_manipulacion_Datos_Dataton_2021.ipynb\" target=\"_parent\"><img src=\"https://colab.research.google.com/assets/colab-badge.svg\" alt=\"Open In Colab\"/></a>"
      ]
    },
    {
      "cell_type": "markdown",
      "metadata": {
        "id": "Q9iWqw4kMmrr"
      },
      "source": [
        "# Introducción a Técnicas de Manipulación y Transformación de Datos para Análisis\n"
      ]
    },
    {
      "cell_type": "markdown",
      "metadata": {
        "id": "-f2TI-6kLU4O"
      },
      "source": [
        "** Herramientas de Analisis de Presupuestario y Transparencia Financiera impartida por: \n",
        "\n",
        "Gabriel Purón Cid - Profesor de la División de Administración Pública del Centro de Investigación y Docencia Económicas (CIDE)\n",
        "\n",
        "### [LINK](https://www.youtube.com/watch?v=ziV_SXy1H0A)"
      ]
    },
    {
      "cell_type": "markdown",
      "metadata": {
        "id": "v8wSh9Ms9F4o"
      },
      "source": [
        "## Obtencion de Datos por medio de API"
      ]
    },
    {
      "cell_type": "markdown",
      "metadata": {
        "id": "o7rqWugEkkT8"
      },
      "source": [
        "Comenzamos importando nuestras librerías con las que trabajaremos este laboratorio:"
      ]
    },
    {
      "cell_type": "code",
      "metadata": {
        "id": "QzMw18Mbo4dv"
      },
      "source": [
        "# Librería para pedir datos a la API de Datos\n",
        "import requests\n",
        "\n",
        "# Librería para manipulación de arreglos 2D \n",
        "import pandas as pd"
      ],
      "execution_count": 1,
      "outputs": []
    },
    {
      "cell_type": "markdown",
      "metadata": {
        "id": "FbUyj0EYJ9tt"
      },
      "source": [
        "En la plataforma [Plataforma de Datos Abiertos del Gobierno de la Ciudad de Mexico](https://datos.cdmx.gob.mx/) tenemos dos manera de trabajar con nuestras bases de datos. \n",
        "\n",
        "*   Descargando nuestro archivo .xlsx\n",
        "\n",
        "*   Accediendo a la API (Application Programming Interface)\n",
        "\n",
        "** ¿Cómo analizar el presupuesto de la CDMX? - Carlos Aviud Vázquez Vidal - Investigador Jr. en el CIEP\n",
        "\n",
        "[LINK](https://www.youtube.com/watch?v=bXb7nivkTNE)\n",
        "\n",
        "** Pensar el APIS: Transformar tareas a programas - Andrés Barrios Arenas - Director del Centro de Estudios Aplicados \n",
        "\n",
        "[LINK](https://www.youtube.com/watch?v=4GEzGatJPro)\n",
        "\n",
        "\n"
      ]
    },
    {
      "cell_type": "code",
      "metadata": {
        "id": "SpsO87w2pA7Y"
      },
      "source": [
        "# URL de acceso a la API DATOS CDMX\n",
        "\n",
        "api_url = 'https://datos.cdmx.gob.mx/api/3/action/datastore_search?resource_id=5c6fb123-5a2f-4ac3-b033-48e12f59973c&limit=15000'"
      ],
      "execution_count": 2,
      "outputs": []
    },
    {
      "cell_type": "code",
      "metadata": {
        "id": "-kDbldvIpDXP",
        "colab": {
          "base_uri": "https://localhost:8080/"
        },
        "outputId": "af6ac3a5-45fb-4701-b09d-6fc900ddacce"
      },
      "source": [
        "# Hacemos una requisición de los datos a estudiar (conexión a API)\n",
        "\n",
        "response = requests.get(api_url)\n",
        "\n",
        "# Revisamos el código de estado de nuestra API, buscámos un 200\n",
        "\n",
        "print(response.status_code)\n",
        "\n",
        "data_response = response.json()\n",
        "\n",
        "# Normalizamos ('aplanamos') nuesto .json y convertimos a un pd.DataFrame\n",
        "data_1 = pd.json_normalize(data_response['result']['records'])"
      ],
      "execution_count": 3,
      "outputs": [
        {
          "output_type": "stream",
          "name": "stdout",
          "text": [
            "200\n"
          ]
        }
      ]
    },
    {
      "cell_type": "code",
      "metadata": {
        "id": "p5DY5GhYXHxr"
      },
      "source": [
        "data = data_1.copy()"
      ],
      "execution_count": 4,
      "outputs": []
    },
    {
      "cell_type": "markdown",
      "metadata": {
        "id": "GKDmEsejzsTh"
      },
      "source": [
        "## Exploración de datos"
      ]
    },
    {
      "cell_type": "markdown",
      "metadata": {
        "id": "Bhl2vcMRPJRM"
      },
      "source": [
        "Nos daremos a la tarea de reconocer la estrucutra y características de los datos que conforman nuestra base a estudiar"
      ]
    },
    {
      "cell_type": "code",
      "metadata": {
        "colab": {
          "base_uri": "https://localhost:8080/"
        },
        "id": "U4yw8pW1gnWv",
        "outputId": "69a5e499-da81-40b1-e1ec-76b97b121659"
      },
      "source": [
        "# Obtenenemos las dimensiones de la información obtenida \n",
        "# (filas, columnas)\n",
        "\n",
        "data.shape"
      ],
      "execution_count": 5,
      "outputs": [
        {
          "output_type": "execute_result",
          "data": {
            "text/plain": [
              "(15000, 64)"
            ]
          },
          "metadata": {},
          "execution_count": 5
        }
      ]
    },
    {
      "cell_type": "code",
      "metadata": {
        "id": "fPYO_lBBr6c_",
        "colab": {
          "base_uri": "https://localhost:8080/",
          "height": 271
        },
        "outputId": "63fd1e68-4b54-46ea-9258-e29a02a76e91"
      },
      "source": [
        "# Imprimimos las primeras 2 filas de nuestra infomación para familiarizarnos\n",
        "# .tail() = últimas filas\n",
        "\n",
        "data.head(2)"
      ],
      "execution_count": 6,
      "outputs": [
        {
          "output_type": "execute_result",
          "data": {
            "text/html": [
              "<div>\n",
              "<style scoped>\n",
              "    .dataframe tbody tr th:only-of-type {\n",
              "        vertical-align: middle;\n",
              "    }\n",
              "\n",
              "    .dataframe tbody tr th {\n",
              "        vertical-align: top;\n",
              "    }\n",
              "\n",
              "    .dataframe thead th {\n",
              "        text-align: right;\n",
              "    }\n",
              "</style>\n",
              "<table border=\"1\" class=\"dataframe\">\n",
              "  <thead>\n",
              "    <tr style=\"text-align: right;\">\n",
              "      <th></th>\n",
              "      <th>_id</th>\n",
              "      <th>clave_presupuestaria</th>\n",
              "      <th>ciclo</th>\n",
              "      <th>periodo</th>\n",
              "      <th>gobierno_general</th>\n",
              "      <th>desc_gobierno_general</th>\n",
              "      <th>sector</th>\n",
              "      <th>desc_sector</th>\n",
              "      <th>subsector</th>\n",
              "      <th>desc_subsector</th>\n",
              "      <th>unidad_responsable</th>\n",
              "      <th>desc_unidad_responsable</th>\n",
              "      <th>finalidad</th>\n",
              "      <th>desc_finalidad</th>\n",
              "      <th>funcion</th>\n",
              "      <th>desc_funcion</th>\n",
              "      <th>subfuncion</th>\n",
              "      <th>desc_subfuncion</th>\n",
              "      <th>area_funcional</th>\n",
              "      <th>desc_area_funcional</th>\n",
              "      <th>modalidad</th>\n",
              "      <th>desc_modalidad</th>\n",
              "      <th>programa_presupuestario</th>\n",
              "      <th>desc_programa_presupuestario</th>\n",
              "      <th>eje</th>\n",
              "      <th>desc_eje</th>\n",
              "      <th>objetivo_desarrollo_sostenible</th>\n",
              "      <th>desc_objetivo_desarrollo_sostenible</th>\n",
              "      <th>tipo_recurso</th>\n",
              "      <th>desc_tipo_recurso</th>\n",
              "      <th>fuente_financiamiento</th>\n",
              "      <th>desc_fuente_financiamiento</th>\n",
              "      <th>fuente_generica</th>\n",
              "      <th>desc_fuente_generica</th>\n",
              "      <th>fuente_especifica</th>\n",
              "      <th>desc_fuente_especifica</th>\n",
              "      <th>ciclo_original</th>\n",
              "      <th>origen_recurso</th>\n",
              "      <th>desc_origen_recurso</th>\n",
              "      <th>fondo</th>\n",
              "      <th>desc_fondo</th>\n",
              "      <th>gasto_programable</th>\n",
              "      <th>desc_gasto_programable</th>\n",
              "      <th>tipo_gasto</th>\n",
              "      <th>desc_tipo_gasto</th>\n",
              "      <th>capitulo</th>\n",
              "      <th>desc_capitulo</th>\n",
              "      <th>concepto</th>\n",
              "      <th>desc_concepto</th>\n",
              "      <th>partida_generica</th>\n",
              "      <th>desc_partida_generica</th>\n",
              "      <th>partida_especifica</th>\n",
              "      <th>desc_partida_especifica</th>\n",
              "      <th>consolidado</th>\n",
              "      <th>desc_consolidado</th>\n",
              "      <th>detalle_consolidado</th>\n",
              "      <th>desc_detalle_consolidado</th>\n",
              "      <th>proyecto_inv</th>\n",
              "      <th>desc_proy_inv</th>\n",
              "      <th>tipo_proyecto</th>\n",
              "      <th>desc_tipo_proyecto</th>\n",
              "      <th>monto_aprobado</th>\n",
              "      <th>monto_modificado</th>\n",
              "      <th>monto_ejercido</th>\n",
              "    </tr>\n",
              "  </thead>\n",
              "  <tbody>\n",
              "    <tr>\n",
              "      <th>0</th>\n",
              "      <td>1</td>\n",
              "      <td>802CD0718520115O28027111200</td>\n",
              "      <td>2018</td>\n",
              "      <td>Aprobado</td>\n",
              "      <td>1</td>\n",
              "      <td>Poder Ejecutivo</td>\n",
              "      <td>2</td>\n",
              "      <td>Gobierno</td>\n",
              "      <td>CD</td>\n",
              "      <td>Alcaldías</td>\n",
              "      <td>02CD07</td>\n",
              "      <td>Alcaldía Gustavo A. Madero</td>\n",
              "      <td>1</td>\n",
              "      <td>Gobierno</td>\n",
              "      <td>18</td>\n",
              "      <td>Otros Servicios Generales</td>\n",
              "      <td>185</td>\n",
              "      <td>Otros</td>\n",
              "      <td>185201</td>\n",
              "      <td>apoyo administrativo</td>\n",
              "      <td></td>\n",
              "      <td></td>\n",
              "      <td></td>\n",
              "      <td></td>\n",
              "      <td>5.0</td>\n",
              "      <td>Efectividad, Rendición de Cuentas y Combate a ...</td>\n",
              "      <td></td>\n",
              "      <td></td>\n",
              "      <td>1.0</td>\n",
              "      <td>Recursos de libre disposición y financiamientos</td>\n",
              "      <td>5.0</td>\n",
              "      <td>Recursos Federales</td>\n",
              "      <td>15O</td>\n",
              "      <td>Participaciones a Entidades Federativas y Muni...</td>\n",
              "      <td>15O2</td>\n",
              "      <td>Fondo General de Participaciones</td>\n",
              "      <td>2018.0</td>\n",
              "      <td>0.0</td>\n",
              "      <td>Identifica al presupuesto aprobado a la ur med...</td>\n",
              "      <td>15O280</td>\n",
              "      <td>No Etiquetado Recursos Federales-Participacion...</td>\n",
              "      <td>1</td>\n",
              "      <td>Programable</td>\n",
              "      <td>1</td>\n",
              "      <td>Gasto corriente</td>\n",
              "      <td>2000</td>\n",
              "      <td>Materiales y suministros</td>\n",
              "      <td>2700</td>\n",
              "      <td>Vestuario, blancos, prendas de proteccion y ar...</td>\n",
              "      <td>2710</td>\n",
              "      <td>Vestuario y uniformes</td>\n",
              "      <td>2711</td>\n",
              "      <td>Vestuario y uniformes</td>\n",
              "      <td>2</td>\n",
              "      <td>Si</td>\n",
              "      <td>0</td>\n",
              "      <td>Gasto normal</td>\n",
              "      <td></td>\n",
              "      <td></td>\n",
              "      <td></td>\n",
              "      <td></td>\n",
              "      <td>5000000.0</td>\n",
              "      <td></td>\n",
              "      <td></td>\n",
              "    </tr>\n",
              "    <tr>\n",
              "      <th>1</th>\n",
              "      <td>2</td>\n",
              "      <td>802CD0718520115O28031711100</td>\n",
              "      <td>2018</td>\n",
              "      <td>Aprobado</td>\n",
              "      <td>1</td>\n",
              "      <td>Poder Ejecutivo</td>\n",
              "      <td>2</td>\n",
              "      <td>Gobierno</td>\n",
              "      <td>CD</td>\n",
              "      <td>Alcaldías</td>\n",
              "      <td>02CD07</td>\n",
              "      <td>Alcaldía Gustavo A. Madero</td>\n",
              "      <td>1</td>\n",
              "      <td>Gobierno</td>\n",
              "      <td>18</td>\n",
              "      <td>Otros Servicios Generales</td>\n",
              "      <td>185</td>\n",
              "      <td>Otros</td>\n",
              "      <td>185201</td>\n",
              "      <td>apoyo administrativo</td>\n",
              "      <td></td>\n",
              "      <td></td>\n",
              "      <td></td>\n",
              "      <td></td>\n",
              "      <td>5.0</td>\n",
              "      <td>Efectividad, Rendición de Cuentas y Combate a ...</td>\n",
              "      <td></td>\n",
              "      <td></td>\n",
              "      <td>1.0</td>\n",
              "      <td>Recursos de libre disposición y financiamientos</td>\n",
              "      <td>5.0</td>\n",
              "      <td>Recursos Federales</td>\n",
              "      <td>15O</td>\n",
              "      <td>Participaciones a Entidades Federativas y Muni...</td>\n",
              "      <td>15O2</td>\n",
              "      <td>Fondo General de Participaciones</td>\n",
              "      <td>2018.0</td>\n",
              "      <td>0.0</td>\n",
              "      <td>Identifica al presupuesto aprobado a la ur med...</td>\n",
              "      <td>15O280</td>\n",
              "      <td>No Etiquetado Recursos Federales-Participacion...</td>\n",
              "      <td>1</td>\n",
              "      <td>Programable</td>\n",
              "      <td>1</td>\n",
              "      <td>Gasto corriente</td>\n",
              "      <td>3000</td>\n",
              "      <td>Servicios generales</td>\n",
              "      <td>3100</td>\n",
              "      <td>Servicios basicos</td>\n",
              "      <td>3170</td>\n",
              "      <td>Servicios de acceso de Internet, redes y proce...</td>\n",
              "      <td>3171</td>\n",
              "      <td>Servicios de acceso de Internet, redes y proce...</td>\n",
              "      <td>1</td>\n",
              "      <td>No</td>\n",
              "      <td>0</td>\n",
              "      <td>Gasto normal</td>\n",
              "      <td></td>\n",
              "      <td></td>\n",
              "      <td></td>\n",
              "      <td></td>\n",
              "      <td>3125000.0</td>\n",
              "      <td></td>\n",
              "      <td></td>\n",
              "    </tr>\n",
              "  </tbody>\n",
              "</table>\n",
              "</div>"
            ],
            "text/plain": [
              "   _id         clave_presupuestaria  ...  monto_modificado monto_ejercido\n",
              "0    1  802CD0718520115O28027111200  ...                                 \n",
              "1    2  802CD0718520115O28031711100  ...                                 \n",
              "\n",
              "[2 rows x 64 columns]"
            ]
          },
          "metadata": {},
          "execution_count": 6
        }
      ]
    },
    {
      "cell_type": "code",
      "metadata": {
        "id": "NUuTcKXzwdKU",
        "colab": {
          "base_uri": "https://localhost:8080/"
        },
        "outputId": "d8c9c875-cdf0-4a65-9a84-9f36ae637f96"
      },
      "source": [
        "# Desplegamos información de nuestros datos\n",
        "# Usamos memory_usage='deep' para conocer la cantidad memoria en uso\n",
        "\n",
        "\n",
        "data.info(memory_usage='deep')"
      ],
      "execution_count": 7,
      "outputs": [
        {
          "output_type": "stream",
          "name": "stdout",
          "text": [
            "<class 'pandas.core.frame.DataFrame'>\n",
            "RangeIndex: 15000 entries, 0 to 14999\n",
            "Data columns (total 64 columns):\n",
            " #   Column                               Non-Null Count  Dtype  \n",
            "---  ------                               --------------  -----  \n",
            " 0   _id                                  15000 non-null  int64  \n",
            " 1   clave_presupuestaria                 15000 non-null  object \n",
            " 2   ciclo                                15000 non-null  int64  \n",
            " 3   periodo                              15000 non-null  object \n",
            " 4   gobierno_general                     15000 non-null  int64  \n",
            " 5   desc_gobierno_general                15000 non-null  object \n",
            " 6   sector                               15000 non-null  int64  \n",
            " 7   desc_sector                          15000 non-null  object \n",
            " 8   subsector                            15000 non-null  object \n",
            " 9   desc_subsector                       15000 non-null  object \n",
            " 10  unidad_responsable                   15000 non-null  object \n",
            " 11  desc_unidad_responsable              15000 non-null  object \n",
            " 12  finalidad                            15000 non-null  int64  \n",
            " 13  desc_finalidad                       15000 non-null  object \n",
            " 14  funcion                              15000 non-null  int64  \n",
            " 15  desc_funcion                         15000 non-null  object \n",
            " 16  subfuncion                           15000 non-null  int64  \n",
            " 17  desc_subfuncion                      15000 non-null  object \n",
            " 18  area_funcional                       15000 non-null  int64  \n",
            " 19  desc_area_funcional                  15000 non-null  object \n",
            " 20  modalidad                            15000 non-null  object \n",
            " 21  desc_modalidad                       15000 non-null  object \n",
            " 22  programa_presupuestario              15000 non-null  object \n",
            " 23  desc_programa_presupuestario         15000 non-null  object \n",
            " 24  eje                                  14990 non-null  float64\n",
            " 25  desc_eje                             15000 non-null  object \n",
            " 26  objetivo_desarrollo_sostenible       15000 non-null  object \n",
            " 27  desc_objetivo_desarrollo_sostenible  15000 non-null  object \n",
            " 28  tipo_recurso                         12705 non-null  float64\n",
            " 29  desc_tipo_recurso                    15000 non-null  object \n",
            " 30  fuente_financiamiento                12705 non-null  float64\n",
            " 31  desc_fuente_financiamiento           15000 non-null  object \n",
            " 32  fuente_generica                      15000 non-null  object \n",
            " 33  desc_fuente_generica                 15000 non-null  object \n",
            " 34  fuente_especifica                    15000 non-null  object \n",
            " 35  desc_fuente_especifica               15000 non-null  object \n",
            " 36  ciclo_original                       12705 non-null  float64\n",
            " 37  origen_recurso                       12705 non-null  float64\n",
            " 38  desc_origen_recurso                  15000 non-null  object \n",
            " 39  fondo                                15000 non-null  object \n",
            " 40  desc_fondo                           15000 non-null  object \n",
            " 41  gasto_programable                    15000 non-null  int64  \n",
            " 42  desc_gasto_programable               15000 non-null  object \n",
            " 43  tipo_gasto                           15000 non-null  int64  \n",
            " 44  desc_tipo_gasto                      15000 non-null  object \n",
            " 45  capitulo                             15000 non-null  int64  \n",
            " 46  desc_capitulo                        15000 non-null  object \n",
            " 47  concepto                             15000 non-null  int64  \n",
            " 48  desc_concepto                        15000 non-null  object \n",
            " 49  partida_generica                     15000 non-null  int64  \n",
            " 50  desc_partida_generica                15000 non-null  object \n",
            " 51  partida_especifica                   15000 non-null  int64  \n",
            " 52  desc_partida_especifica              15000 non-null  object \n",
            " 53  consolidado                          15000 non-null  int64  \n",
            " 54  desc_consolidado                     15000 non-null  object \n",
            " 55  detalle_consolidado                  15000 non-null  int64  \n",
            " 56  desc_detalle_consolidado             15000 non-null  object \n",
            " 57  proyecto_inv                         15000 non-null  object \n",
            " 58  desc_proy_inv                        15000 non-null  object \n",
            " 59  tipo_proyecto                        15000 non-null  object \n",
            " 60  desc_tipo_proyecto                   15000 non-null  object \n",
            " 61  monto_aprobado                       12705 non-null  float64\n",
            " 62  monto_modificado                     15000 non-null  object \n",
            " 63  monto_ejercido                       15000 non-null  object \n",
            "dtypes: float64(6), int64(16), object(42)\n",
            "memory usage: 51.0 MB\n"
          ]
        }
      ]
    },
    {
      "cell_type": "code",
      "metadata": {
        "colab": {
          "base_uri": "https://localhost:8080/"
        },
        "id": "bCwNhNMPZ16j",
        "outputId": "3092ac50-b1f5-4c7d-f874-d89c474184a5"
      },
      "source": [
        "# Revisamos columnas con datos nulos: que sume cuántas filas son de datos nulos (dándole valor a cero). \n",
        "\n",
        "nan_cols = data.isna().sum()\n",
        "nan_cols[nan_cols>0]\n",
        "# dict(data.isnull().sum())"
      ],
      "execution_count": 9,
      "outputs": [
        {
          "output_type": "execute_result",
          "data": {
            "text/plain": [
              "eje                        10\n",
              "tipo_recurso             2295\n",
              "fuente_financiamiento    2295\n",
              "ciclo_original           2295\n",
              "origen_recurso           2295\n",
              "monto_aprobado           2295\n",
              "dtype: int64"
            ]
          },
          "metadata": {},
          "execution_count": 9
        }
      ]
    },
    {
      "cell_type": "markdown",
      "metadata": {
        "id": "NDwzdv62AKaC"
      },
      "source": [
        "## Limpieza de Datos \n",
        "\n",
        "*   Identificación de atributos de interés\n",
        "*   Reemplazo de valores \n",
        "*   Cambio de tipo de dato"
      ]
    },
    {
      "cell_type": "code",
      "metadata": {
        "colab": {
          "base_uri": "https://localhost:8080/"
        },
        "id": "Phf5JOn8nsTb",
        "outputId": "376dcb2e-e143-45fb-cad5-f60e1cc4e1a5"
      },
      "source": [
        "# Explorando datos únicos por atributo\n",
        "\n",
        "data.desc_tipo_proyecto.unique()"
      ],
      "execution_count": 10,
      "outputs": [
        {
          "output_type": "execute_result",
          "data": {
            "text/plain": [
              "array(['', 'Obras', 'Adquisiciones', 'Integrales'], dtype=object)"
            ]
          },
          "metadata": {},
          "execution_count": 10
        }
      ]
    },
    {
      "cell_type": "markdown",
      "metadata": {
        "id": "ZI6fVQKL2l3N"
      },
      "source": [
        "### Tratando Valores Nulos\n",
        "\n",
        "Encontramos valores no declarados y los tratamos para poder reconocerlos en nuestro análisis"
      ]
    },
    {
      "cell_type": "code",
      "metadata": {
        "id": "ROcKySQuIbcp"
      },
      "source": [
        "# Sustituyendo valores NaN por 0 y cambiando el tipo de dato\n",
        "\n",
        "data.ciclo_original = data.ciclo_original.fillna(value = 0)\n",
        "data.ciclo_original = data.ciclo_original.astype('int')"
      ],
      "execution_count": 11,
      "outputs": []
    },
    {
      "cell_type": "code",
      "metadata": {
        "colab": {
          "base_uri": "https://localhost:8080/"
        },
        "id": "hA5ycXlDztNp",
        "outputId": "de751863-65a7-4ccd-e23b-38dedebc9a15"
      },
      "source": [
        "# Hacemos un conteo de valores para revisar nuestros cambios\n",
        "\n",
        "data.ciclo_original.value_counts()"
      ],
      "execution_count": 12,
      "outputs": [
        {
          "output_type": "execute_result",
          "data": {
            "text/plain": [
              "2018    12504\n",
              "0        2295\n",
              "2017      184\n",
              "2016       14\n",
              "2015        3\n",
              "Name: ciclo_original, dtype: int64"
            ]
          },
          "metadata": {},
          "execution_count": 12
        }
      ]
    },
    {
      "cell_type": "code",
      "metadata": {
        "id": "bZqyeEYrhloL"
      },
      "source": [
        "# Para este ejercicio tomamos atributos categóricos para entender la información que conforma nuestra Base de Datos\n",
        "# .copy() - para no alterar nuestra base de datos original (indices y datos)\n",
        "data_desc = data[['_id',\\\n",
        "                  'ciclo',\\\n",
        "                  'periodo',\\\n",
        "                  'desc_gobierno_general',\\\n",
        "                  'desc_sector',\\\n",
        "                  'desc_subsector',\\\n",
        "                  'desc_unidad_responsable',\\\n",
        "                  'desc_finalidad',\\\n",
        "                  'desc_funcion',\\\n",
        "                  'desc_area_funcional',\\\n",
        "                  'desc_eje',\\\n",
        "                  'desc_objetivo_desarrollo_sostenible',\\\n",
        "                  'desc_tipo_recurso',\\\n",
        "                  'desc_fuente_financiamiento',\\\n",
        "                  'desc_fuente_generica',\\\n",
        "                  'desc_fuente_especifica',\\\n",
        "                  'ciclo_original',\\\n",
        "                  'desc_capitulo',\\\n",
        "                  'desc_concepto',\\\n",
        "                  'desc_partida_generica',\\\n",
        "                  'desc_partida_especifica',\\\n",
        "                  'desc_consolidado',\\\n",
        "                  'desc_detalle_consolidado',\\\n",
        "                  'desc_proy_inv',\\\n",
        "                  'desc_tipo_proyecto',\\\n",
        "                  'monto_aprobado',\\\n",
        "                  'monto_ejercido']].copy()"
      ],
      "execution_count": 13,
      "outputs": []
    },
    {
      "cell_type": "code",
      "metadata": {
        "id": "OQTnbfMLzHf2"
      },
      "source": [
        "# Al analizar nuestra base de datos localizamos un valor declarado en diversos atributos como \"\" (valor vacio), mismo que se sustituye por \"No Declarado **\"\n",
        "\n",
        "data_desc = data_desc.replace(\"\",\"No Declarado **\")"
      ],
      "execution_count": 14,
      "outputs": []
    },
    {
      "cell_type": "code",
      "metadata": {
        "id": "NKG5oldIzyJy"
      },
      "source": [
        "# El atributo desc_monto_ejercido cuenta con este tipo de valores asi que para ejecutar agregaciones matemáticas debemos sustituir esos valores por \"0\"\n",
        "\n",
        "data_desc.monto_ejercido = data_desc.monto_ejercido.replace(\"No Declarado **\", \"0\")"
      ],
      "execution_count": 15,
      "outputs": []
    },
    {
      "cell_type": "markdown",
      "metadata": {
        "id": "DpBFT-OwUBwS"
      },
      "source": [
        "Dada la naturaleza y fuente de nuestros datos debemos asegurarnos que nuestro tipo de dato nos permite realizar agregaciones matematicas (float, int, date) o procesos de catergorizacion (objects, strings) "
      ]
    },
    {
      "cell_type": "code",
      "metadata": {
        "id": "o0gpUKJi0Faz"
      },
      "source": [
        "# Convertimos nuestro atributo desc_monto_ejercido a número con decimales (float)\n",
        "\n",
        "data_desc.monto_ejercido = data_desc.monto_ejercido.astype('float')\n"
      ],
      "execution_count": 18,
      "outputs": []
    },
    {
      "cell_type": "code",
      "metadata": {
        "id": "ZtqV7cpgCrxR",
        "colab": {
          "base_uri": "https://localhost:8080/"
        },
        "outputId": "0650a78a-bff4-4af0-d71e-4bb878d7c334"
      },
      "source": [
        "# Comparamos las dimensiones de nuetros datos originales y los que estudiaremos en este caso\n",
        "\n",
        "print(data.shape, data_desc.shape)"
      ],
      "execution_count": 17,
      "outputs": [
        {
          "output_type": "stream",
          "name": "stdout",
          "text": [
            "(15000, 64) (15000, 27)\n"
          ]
        }
      ]
    },
    {
      "cell_type": "markdown",
      "metadata": {
        "id": "MdgDE5HkqO8K"
      },
      "source": [
        "# Manipulación de Bases de Datos\n",
        "\n",
        "*   Reordenamiento de Datos\n",
        "*   Filtrado Condicional\n",
        "*   Categorización\n",
        "\n"
      ]
    },
    {
      "cell_type": "code",
      "metadata": {
        "id": "OU80ImdVo6KR"
      },
      "source": [
        "# Renombrando columnas\n",
        "\n",
        "# Opción 1\n",
        "\n",
        "# Modificamos el nombre de nuestros atributos dado a que estamos ahora tratando nuestra base data_desc \n",
        "\n",
        "data_desc.columns = [item[5:] if item.startswith('desc_') else item for item in data_desc.columns]"
      ],
      "execution_count": 19,
      "outputs": []
    },
    {
      "cell_type": "code",
      "metadata": {
        "id": "qXpCK-Yca5OR"
      },
      "source": [
        "# Opción 2\n",
        "# Declaración manual (comentario;)\n",
        "'''\n",
        "data_rename = data.rename(columns={'_id' : 'ID',\\\n",
        "                            'desc_gobierno_general' : 'Gobierno_Gral',\\\n",
        "                            'desc_sector' : 'Sector'})\n",
        "\n",
        "''';"
      ],
      "execution_count": 20,
      "outputs": []
    },
    {
      "cell_type": "code",
      "metadata": {
        "colab": {
          "base_uri": "https://localhost:8080/"
        },
        "id": "kp6TP8EXvI4O",
        "outputId": "bfbe177a-7c02-4e62-cd23-960d4c6f4d5a"
      },
      "source": [
        "data_desc.columns "
      ],
      "execution_count": 21,
      "outputs": [
        {
          "output_type": "execute_result",
          "data": {
            "text/plain": [
              "Index(['_id', 'ciclo', 'periodo', 'gobierno_general', 'sector', 'subsector',\n",
              "       'unidad_responsable', 'finalidad', 'funcion', 'area_funcional', 'eje',\n",
              "       'objetivo_desarrollo_sostenible', 'tipo_recurso',\n",
              "       'fuente_financiamiento', 'fuente_generica', 'fuente_especifica',\n",
              "       'ciclo_original', 'capitulo', 'concepto', 'partida_generica',\n",
              "       'partida_especifica', 'consolidado', 'detalle_consolidado', 'proy_inv',\n",
              "       'tipo_proyecto', 'monto_aprobado', 'monto_ejercido'],\n",
              "      dtype='object')"
            ]
          },
          "metadata": {},
          "execution_count": 21
        }
      ]
    },
    {
      "cell_type": "code",
      "metadata": {
        "colab": {
          "base_uri": "https://localhost:8080/",
          "height": 288
        },
        "id": "UliV9OJIsVx9",
        "outputId": "fb0ee7ce-a3bb-494a-9501-fb25f224a3e5"
      },
      "source": [
        "# Reordenamiento de Columnas\n",
        "\n",
        "orden_actualizado = ['_id', 'ciclo', 'ciclo_original', 'finalidad', 'fuente_especifica', 'periodo', 'unidad_responsable', 'gobierno_general', 'subsector',\\\n",
        "                     'monto_aprobado', 'monto_ejercido', 'sector', 'funcion', 'area_funcional', 'eje','objetivo_desarrollo_sostenible',\\\n",
        "                     'tipo_recurso', 'fuente_financiamiento', 'fuente_generica', 'capitulo', 'concepto', 'partida_generica',\\\n",
        "                     'partida_especifica', 'consolidado', 'detalle_consolidado', 'proy_inv', 'tipo_proyecto']\n",
        "\n",
        "data_desc = data_desc[orden_actualizado]\n",
        "\n",
        "data_desc.head(2)"
      ],
      "execution_count": 22,
      "outputs": [
        {
          "output_type": "execute_result",
          "data": {
            "text/html": [
              "<div>\n",
              "<style scoped>\n",
              "    .dataframe tbody tr th:only-of-type {\n",
              "        vertical-align: middle;\n",
              "    }\n",
              "\n",
              "    .dataframe tbody tr th {\n",
              "        vertical-align: top;\n",
              "    }\n",
              "\n",
              "    .dataframe thead th {\n",
              "        text-align: right;\n",
              "    }\n",
              "</style>\n",
              "<table border=\"1\" class=\"dataframe\">\n",
              "  <thead>\n",
              "    <tr style=\"text-align: right;\">\n",
              "      <th></th>\n",
              "      <th>_id</th>\n",
              "      <th>ciclo</th>\n",
              "      <th>ciclo_original</th>\n",
              "      <th>finalidad</th>\n",
              "      <th>fuente_especifica</th>\n",
              "      <th>periodo</th>\n",
              "      <th>unidad_responsable</th>\n",
              "      <th>gobierno_general</th>\n",
              "      <th>subsector</th>\n",
              "      <th>monto_aprobado</th>\n",
              "      <th>monto_ejercido</th>\n",
              "      <th>sector</th>\n",
              "      <th>funcion</th>\n",
              "      <th>area_funcional</th>\n",
              "      <th>eje</th>\n",
              "      <th>objetivo_desarrollo_sostenible</th>\n",
              "      <th>tipo_recurso</th>\n",
              "      <th>fuente_financiamiento</th>\n",
              "      <th>fuente_generica</th>\n",
              "      <th>capitulo</th>\n",
              "      <th>concepto</th>\n",
              "      <th>partida_generica</th>\n",
              "      <th>partida_especifica</th>\n",
              "      <th>consolidado</th>\n",
              "      <th>detalle_consolidado</th>\n",
              "      <th>proy_inv</th>\n",
              "      <th>tipo_proyecto</th>\n",
              "    </tr>\n",
              "  </thead>\n",
              "  <tbody>\n",
              "    <tr>\n",
              "      <th>0</th>\n",
              "      <td>1</td>\n",
              "      <td>2018</td>\n",
              "      <td>2018</td>\n",
              "      <td>Gobierno</td>\n",
              "      <td>Fondo General de Participaciones</td>\n",
              "      <td>Aprobado</td>\n",
              "      <td>Alcaldía Gustavo A. Madero</td>\n",
              "      <td>Poder Ejecutivo</td>\n",
              "      <td>Alcaldías</td>\n",
              "      <td>5000000.0</td>\n",
              "      <td>0.0</td>\n",
              "      <td>Gobierno</td>\n",
              "      <td>Otros Servicios Generales</td>\n",
              "      <td>apoyo administrativo</td>\n",
              "      <td>Efectividad, Rendición de Cuentas y Combate a ...</td>\n",
              "      <td>No Declarado **</td>\n",
              "      <td>Recursos de libre disposición y financiamientos</td>\n",
              "      <td>Recursos Federales</td>\n",
              "      <td>Participaciones a Entidades Federativas y Muni...</td>\n",
              "      <td>Materiales y suministros</td>\n",
              "      <td>Vestuario, blancos, prendas de proteccion y ar...</td>\n",
              "      <td>Vestuario y uniformes</td>\n",
              "      <td>Vestuario y uniformes</td>\n",
              "      <td>Si</td>\n",
              "      <td>Gasto normal</td>\n",
              "      <td>No Declarado **</td>\n",
              "      <td>No Declarado **</td>\n",
              "    </tr>\n",
              "    <tr>\n",
              "      <th>1</th>\n",
              "      <td>2</td>\n",
              "      <td>2018</td>\n",
              "      <td>2018</td>\n",
              "      <td>Gobierno</td>\n",
              "      <td>Fondo General de Participaciones</td>\n",
              "      <td>Aprobado</td>\n",
              "      <td>Alcaldía Gustavo A. Madero</td>\n",
              "      <td>Poder Ejecutivo</td>\n",
              "      <td>Alcaldías</td>\n",
              "      <td>3125000.0</td>\n",
              "      <td>0.0</td>\n",
              "      <td>Gobierno</td>\n",
              "      <td>Otros Servicios Generales</td>\n",
              "      <td>apoyo administrativo</td>\n",
              "      <td>Efectividad, Rendición de Cuentas y Combate a ...</td>\n",
              "      <td>No Declarado **</td>\n",
              "      <td>Recursos de libre disposición y financiamientos</td>\n",
              "      <td>Recursos Federales</td>\n",
              "      <td>Participaciones a Entidades Federativas y Muni...</td>\n",
              "      <td>Servicios generales</td>\n",
              "      <td>Servicios basicos</td>\n",
              "      <td>Servicios de acceso de Internet, redes y proce...</td>\n",
              "      <td>Servicios de acceso de Internet, redes y proce...</td>\n",
              "      <td>No</td>\n",
              "      <td>Gasto normal</td>\n",
              "      <td>No Declarado **</td>\n",
              "      <td>No Declarado **</td>\n",
              "    </tr>\n",
              "  </tbody>\n",
              "</table>\n",
              "</div>"
            ],
            "text/plain": [
              "   _id  ciclo  ...         proy_inv    tipo_proyecto\n",
              "0    1   2018  ...  No Declarado **  No Declarado **\n",
              "1    2   2018  ...  No Declarado **  No Declarado **\n",
              "\n",
              "[2 rows x 27 columns]"
            ]
          },
          "metadata": {},
          "execution_count": 22
        }
      ]
    },
    {
      "cell_type": "code",
      "metadata": {
        "colab": {
          "base_uri": "https://localhost:8080/"
        },
        "id": "N8klMLEYBzsk",
        "outputId": "94d3ed61-d571-455c-bc3e-e5b4d71a3006"
      },
      "source": [
        "data_desc.ciclo.unique()"
      ],
      "execution_count": 23,
      "outputs": [
        {
          "output_type": "execute_result",
          "data": {
            "text/plain": [
              "array([2018, 2019])"
            ]
          },
          "metadata": {},
          "execution_count": 23
        }
      ]
    },
    {
      "cell_type": "code",
      "metadata": {
        "id": "y3thZuTmsVm1"
      },
      "source": [
        "# Filtrando datos por columna\n",
        "\n",
        "data_gob_2018 = data_desc[(data_desc['ciclo_original'] == 2018 & 2019) & (data_desc['periodo'] == 'Aprobado') & (data_desc['monto_aprobado'] != 0)]"
      ],
      "execution_count": 24,
      "outputs": []
    },
    {
      "cell_type": "code",
      "metadata": {
        "colab": {
          "base_uri": "https://localhost:8080/"
        },
        "id": "M2cfYKsDP7Fi",
        "outputId": "ecfe616c-7847-489f-aac0-822f2696879a"
      },
      "source": [
        "data_gob_2018.shape"
      ],
      "execution_count": 25,
      "outputs": [
        {
          "output_type": "execute_result",
          "data": {
            "text/plain": [
              "(10260, 27)"
            ]
          },
          "metadata": {},
          "execution_count": 25
        }
      ]
    },
    {
      "cell_type": "code",
      "metadata": {
        "colab": {
          "base_uri": "https://localhost:8080/"
        },
        "id": "LBTDn35IqgAC",
        "outputId": "65f36bb5-011b-4a10-f25e-b4299b740500"
      },
      "source": [
        "data_gob_2018.info()"
      ],
      "execution_count": 26,
      "outputs": [
        {
          "output_type": "stream",
          "name": "stdout",
          "text": [
            "<class 'pandas.core.frame.DataFrame'>\n",
            "Int64Index: 10260 entries, 0 to 12706\n",
            "Data columns (total 27 columns):\n",
            " #   Column                          Non-Null Count  Dtype  \n",
            "---  ------                          --------------  -----  \n",
            " 0   _id                             10260 non-null  int64  \n",
            " 1   ciclo                           10260 non-null  int64  \n",
            " 2   ciclo_original                  10260 non-null  int64  \n",
            " 3   finalidad                       10260 non-null  object \n",
            " 4   fuente_especifica               10260 non-null  object \n",
            " 5   periodo                         10260 non-null  object \n",
            " 6   unidad_responsable              10260 non-null  object \n",
            " 7   gobierno_general                10260 non-null  object \n",
            " 8   subsector                       10260 non-null  object \n",
            " 9   monto_aprobado                  10260 non-null  float64\n",
            " 10  monto_ejercido                  10260 non-null  float64\n",
            " 11  sector                          10260 non-null  object \n",
            " 12  funcion                         10260 non-null  object \n",
            " 13  area_funcional                  10260 non-null  object \n",
            " 14  eje                             10260 non-null  object \n",
            " 15  objetivo_desarrollo_sostenible  10260 non-null  object \n",
            " 16  tipo_recurso                    10260 non-null  object \n",
            " 17  fuente_financiamiento           10260 non-null  object \n",
            " 18  fuente_generica                 10260 non-null  object \n",
            " 19  capitulo                        10260 non-null  object \n",
            " 20  concepto                        10260 non-null  object \n",
            " 21  partida_generica                10260 non-null  object \n",
            " 22  partida_especifica              10260 non-null  object \n",
            " 23  consolidado                     10260 non-null  object \n",
            " 24  detalle_consolidado             10260 non-null  object \n",
            " 25  proy_inv                        10260 non-null  object \n",
            " 26  tipo_proyecto                   10260 non-null  object \n",
            "dtypes: float64(2), int64(3), object(22)\n",
            "memory usage: 2.2+ MB\n"
          ]
        }
      ]
    },
    {
      "cell_type": "code",
      "metadata": {
        "colab": {
          "base_uri": "https://localhost:8080/"
        },
        "id": "O6sAeX0xwfpZ",
        "outputId": "e99bf21d-1cb1-40de-c1a0-3a470e66ca5e"
      },
      "source": [
        "# Modificando el tipo de Dato a tipo fecha \n",
        "\n",
        "data_gob_2018.ciclo_original = pd.to_datetime(data_gob_2018.ciclo_original, format = '%Y', errors='ignore')"
      ],
      "execution_count": 27,
      "outputs": [
        {
          "output_type": "stream",
          "name": "stderr",
          "text": [
            "/usr/local/lib/python3.7/dist-packages/pandas/core/generic.py:5170: SettingWithCopyWarning: \n",
            "A value is trying to be set on a copy of a slice from a DataFrame.\n",
            "Try using .loc[row_indexer,col_indexer] = value instead\n",
            "\n",
            "See the caveats in the documentation: https://pandas.pydata.org/pandas-docs/stable/user_guide/indexing.html#returning-a-view-versus-a-copy\n",
            "  self[name] = value\n"
          ]
        }
      ]
    },
    {
      "cell_type": "code",
      "metadata": {
        "colab": {
          "base_uri": "https://localhost:8080/"
        },
        "id": "4TEAoS7xxA_g",
        "outputId": "312a060e-e510-4809-c324-ff7ba0d0a3a2"
      },
      "source": [
        "data_gob_2018.ciclo = pd.to_datetime(data_gob_2018.ciclo, format = '%Y', errors='ignore')"
      ],
      "execution_count": 28,
      "outputs": [
        {
          "output_type": "stream",
          "name": "stderr",
          "text": [
            "/usr/local/lib/python3.7/dist-packages/pandas/core/generic.py:5170: SettingWithCopyWarning: \n",
            "A value is trying to be set on a copy of a slice from a DataFrame.\n",
            "Try using .loc[row_indexer,col_indexer] = value instead\n",
            "\n",
            "See the caveats in the documentation: https://pandas.pydata.org/pandas-docs/stable/user_guide/indexing.html#returning-a-view-versus-a-copy\n",
            "  self[name] = value\n"
          ]
        }
      ]
    },
    {
      "cell_type": "code",
      "metadata": {
        "id": "GaEwNlg-IgA9"
      },
      "source": [
        "# Categorización \n",
        "\n",
        "# Declaramos nuestras etiquetas\n",
        "\n",
        "montos_aprobados = ['Bajo', 'Moderado', 'Medio', 'Medio Alto', 'Alto']\n",
        "\n",
        "# Utilizamos la funcion pd.cut() para convertir nuestros valores a intervalos discretos. Considerando valores min y max\n",
        "\n",
        "grupos = pd.cut(data_gob_2018.monto_aprobado, 5, labels= montos_aprobados)"
      ],
      "execution_count": 29,
      "outputs": []
    },
    {
      "cell_type": "code",
      "metadata": {
        "colab": {
          "base_uri": "https://localhost:8080/"
        },
        "id": "TSBWsARkIf7E",
        "outputId": "0759f7e5-3a2b-42ec-b08f-ee01f0195a0f"
      },
      "source": [
        "grupos.value_counts()"
      ],
      "execution_count": 30,
      "outputs": [
        {
          "output_type": "execute_result",
          "data": {
            "text/plain": [
              "Bajo          10252\n",
              "Moderado          6\n",
              "Alto              1\n",
              "Medio             1\n",
              "Medio Alto        0\n",
              "Name: monto_aprobado, dtype: int64"
            ]
          },
          "metadata": {},
          "execution_count": 30
        }
      ]
    },
    {
      "cell_type": "code",
      "metadata": {
        "colab": {
          "base_uri": "https://localhost:8080/"
        },
        "id": "V8g6zwGCIfz6",
        "outputId": "77563fe1-5826-45ce-ab85-27b1639fb3f7"
      },
      "source": [
        "grupos.head()"
      ],
      "execution_count": 31,
      "outputs": [
        {
          "output_type": "execute_result",
          "data": {
            "text/plain": [
              "0    Bajo\n",
              "1    Bajo\n",
              "2    Bajo\n",
              "4    Bajo\n",
              "5    Bajo\n",
              "Name: monto_aprobado, dtype: category\n",
              "Categories (5, object): ['Bajo' < 'Moderado' < 'Medio' < 'Medio Alto' < 'Alto']"
            ]
          },
          "metadata": {},
          "execution_count": 31
        }
      ]
    },
    {
      "cell_type": "code",
      "metadata": {
        "id": "zxVIH4zIQ2NS"
      },
      "source": [
        "# La funcion pd.qcut() (Quantile-Based Discretization) \n",
        "# categoriza los valores intentando colocar la misma cantidad de datos en cada categoria\n",
        "\n",
        "grupos_qcut = pd.qcut(data_gob_2018.monto_aprobado, 5, labels= montos_aprobados)"
      ],
      "execution_count": 32,
      "outputs": []
    },
    {
      "cell_type": "code",
      "metadata": {
        "colab": {
          "base_uri": "https://localhost:8080/"
        },
        "id": "zS7K0UUdQ2HA",
        "outputId": "480f83ca-f4a0-4dae-839b-71902c837f18"
      },
      "source": [
        "grupos_qcut.value_counts()"
      ],
      "execution_count": 33,
      "outputs": [
        {
          "output_type": "execute_result",
          "data": {
            "text/plain": [
              "Moderado      2100\n",
              "Bajo          2071\n",
              "Alto          2052\n",
              "Medio Alto    2052\n",
              "Medio         1985\n",
              "Name: monto_aprobado, dtype: int64"
            ]
          },
          "metadata": {},
          "execution_count": 33
        }
      ]
    },
    {
      "cell_type": "code",
      "metadata": {
        "colab": {
          "base_uri": "https://localhost:8080/"
        },
        "id": "QTQEtvyJRXC9",
        "outputId": "b268a8ec-f55e-4504-9b6c-bd78b198bfcb"
      },
      "source": [
        "# Obteniendo cuantiles\n",
        "\n",
        "data_gob_2018.monto_aprobado.describe(percentiles=[x/100 for x in range(0,100,25)])"
      ],
      "execution_count": 34,
      "outputs": [
        {
          "output_type": "execute_result",
          "data": {
            "text/plain": [
              "count    1.026000e+04\n",
              "mean     6.322303e+06\n",
              "std      6.625709e+07\n",
              "min      1.000000e+00\n",
              "0%       1.000000e+00\n",
              "25%      3.170600e+04\n",
              "50%      1.867360e+05\n",
              "75%      1.125840e+06\n",
              "max      4.579769e+09\n",
              "Name: monto_aprobado, dtype: float64"
            ]
          },
          "metadata": {},
          "execution_count": 34
        }
      ]
    },
    {
      "cell_type": "code",
      "metadata": {
        "colab": {
          "base_uri": "https://localhost:8080/"
        },
        "id": "laD6kCi4RW_T",
        "outputId": "ed3679ed-fce6-4a8f-f1d5-d342ffc37cbf"
      },
      "source": [
        "cuts = [1, 31706, 186736, 1125840, 500000000 ,4579769000]\n",
        "bins = pd.cut(data_gob_2018.monto_aprobado, cuts, labels= montos_aprobados)\n",
        "bins.value_counts()"
      ],
      "execution_count": 35,
      "outputs": [
        {
          "output_type": "execute_result",
          "data": {
            "text/plain": [
              "Medio         2565\n",
              "Moderado      2565\n",
              "Bajo          2564\n",
              "Medio Alto    2544\n",
              "Alto            21\n",
              "Name: monto_aprobado, dtype: int64"
            ]
          },
          "metadata": {},
          "execution_count": 35
        }
      ]
    },
    {
      "cell_type": "code",
      "metadata": {
        "colab": {
          "base_uri": "https://localhost:8080/",
          "height": 295
        },
        "id": "UhsUidVs1ir6",
        "outputId": "21f803d5-a5b6-4024-aaa3-fcca4039bf36"
      },
      "source": [
        "# One Hot Encoding - pd.get_dummies\n",
        "# Convertimos variables categoricas a valiables indicativas (es o no es)\n",
        "\n",
        "dummies_sector = pd.get_dummies(data_gob_2018['sector'])\n",
        "dummies_sector.head()"
      ],
      "execution_count": 36,
      "outputs": [
        {
          "output_type": "execute_result",
          "data": {
            "text/html": [
              "<div>\n",
              "<style scoped>\n",
              "    .dataframe tbody tr th:only-of-type {\n",
              "        vertical-align: middle;\n",
              "    }\n",
              "\n",
              "    .dataframe tbody tr th {\n",
              "        vertical-align: top;\n",
              "    }\n",
              "\n",
              "    .dataframe thead th {\n",
              "        text-align: right;\n",
              "    }\n",
              "</style>\n",
              "<table border=\"1\" class=\"dataframe\">\n",
              "  <thead>\n",
              "    <tr style=\"text-align: right;\">\n",
              "      <th></th>\n",
              "      <th>Ciencia y Tecnología</th>\n",
              "      <th>Consejería Jurídica</th>\n",
              "      <th>Contraloría General</th>\n",
              "      <th>Cultura</th>\n",
              "      <th>Desarrollo Económico</th>\n",
              "      <th>Desarrollo Rural y equidad para las comunidades</th>\n",
              "      <th>Desarrollo Social</th>\n",
              "      <th>Desarrollo Urbano y Vivienda</th>\n",
              "      <th>Educación</th>\n",
              "      <th>Finanzas</th>\n",
              "      <th>Gobierno</th>\n",
              "      <th>Medio Ambiente</th>\n",
              "      <th>Obras y Servicios</th>\n",
              "      <th>Oficialía Mayor</th>\n",
              "      <th>Poder Judicial</th>\n",
              "      <th>Poder Legislativo</th>\n",
              "      <th>Procuraduría Ambiental y del Ordenamiento Territorial</th>\n",
              "      <th>Procuraduría General de Justicia</th>\n",
              "      <th>Protección Civil</th>\n",
              "      <th>Salud</th>\n",
              "      <th>Seguridad Ciudadana</th>\n",
              "      <th>Subsidios</th>\n",
              "      <th>Transportes y Vialidad</th>\n",
              "      <th>Turismo</th>\n",
              "      <th>Órganos Autónomos</th>\n",
              "    </tr>\n",
              "  </thead>\n",
              "  <tbody>\n",
              "    <tr>\n",
              "      <th>0</th>\n",
              "      <td>0</td>\n",
              "      <td>0</td>\n",
              "      <td>0</td>\n",
              "      <td>0</td>\n",
              "      <td>0</td>\n",
              "      <td>0</td>\n",
              "      <td>0</td>\n",
              "      <td>0</td>\n",
              "      <td>0</td>\n",
              "      <td>0</td>\n",
              "      <td>1</td>\n",
              "      <td>0</td>\n",
              "      <td>0</td>\n",
              "      <td>0</td>\n",
              "      <td>0</td>\n",
              "      <td>0</td>\n",
              "      <td>0</td>\n",
              "      <td>0</td>\n",
              "      <td>0</td>\n",
              "      <td>0</td>\n",
              "      <td>0</td>\n",
              "      <td>0</td>\n",
              "      <td>0</td>\n",
              "      <td>0</td>\n",
              "      <td>0</td>\n",
              "    </tr>\n",
              "    <tr>\n",
              "      <th>1</th>\n",
              "      <td>0</td>\n",
              "      <td>0</td>\n",
              "      <td>0</td>\n",
              "      <td>0</td>\n",
              "      <td>0</td>\n",
              "      <td>0</td>\n",
              "      <td>0</td>\n",
              "      <td>0</td>\n",
              "      <td>0</td>\n",
              "      <td>0</td>\n",
              "      <td>1</td>\n",
              "      <td>0</td>\n",
              "      <td>0</td>\n",
              "      <td>0</td>\n",
              "      <td>0</td>\n",
              "      <td>0</td>\n",
              "      <td>0</td>\n",
              "      <td>0</td>\n",
              "      <td>0</td>\n",
              "      <td>0</td>\n",
              "      <td>0</td>\n",
              "      <td>0</td>\n",
              "      <td>0</td>\n",
              "      <td>0</td>\n",
              "      <td>0</td>\n",
              "    </tr>\n",
              "    <tr>\n",
              "      <th>2</th>\n",
              "      <td>0</td>\n",
              "      <td>0</td>\n",
              "      <td>0</td>\n",
              "      <td>0</td>\n",
              "      <td>0</td>\n",
              "      <td>0</td>\n",
              "      <td>0</td>\n",
              "      <td>0</td>\n",
              "      <td>0</td>\n",
              "      <td>0</td>\n",
              "      <td>1</td>\n",
              "      <td>0</td>\n",
              "      <td>0</td>\n",
              "      <td>0</td>\n",
              "      <td>0</td>\n",
              "      <td>0</td>\n",
              "      <td>0</td>\n",
              "      <td>0</td>\n",
              "      <td>0</td>\n",
              "      <td>0</td>\n",
              "      <td>0</td>\n",
              "      <td>0</td>\n",
              "      <td>0</td>\n",
              "      <td>0</td>\n",
              "      <td>0</td>\n",
              "    </tr>\n",
              "    <tr>\n",
              "      <th>4</th>\n",
              "      <td>0</td>\n",
              "      <td>0</td>\n",
              "      <td>0</td>\n",
              "      <td>0</td>\n",
              "      <td>0</td>\n",
              "      <td>0</td>\n",
              "      <td>0</td>\n",
              "      <td>0</td>\n",
              "      <td>0</td>\n",
              "      <td>0</td>\n",
              "      <td>1</td>\n",
              "      <td>0</td>\n",
              "      <td>0</td>\n",
              "      <td>0</td>\n",
              "      <td>0</td>\n",
              "      <td>0</td>\n",
              "      <td>0</td>\n",
              "      <td>0</td>\n",
              "      <td>0</td>\n",
              "      <td>0</td>\n",
              "      <td>0</td>\n",
              "      <td>0</td>\n",
              "      <td>0</td>\n",
              "      <td>0</td>\n",
              "      <td>0</td>\n",
              "    </tr>\n",
              "    <tr>\n",
              "      <th>5</th>\n",
              "      <td>0</td>\n",
              "      <td>0</td>\n",
              "      <td>0</td>\n",
              "      <td>0</td>\n",
              "      <td>0</td>\n",
              "      <td>0</td>\n",
              "      <td>0</td>\n",
              "      <td>0</td>\n",
              "      <td>0</td>\n",
              "      <td>0</td>\n",
              "      <td>1</td>\n",
              "      <td>0</td>\n",
              "      <td>0</td>\n",
              "      <td>0</td>\n",
              "      <td>0</td>\n",
              "      <td>0</td>\n",
              "      <td>0</td>\n",
              "      <td>0</td>\n",
              "      <td>0</td>\n",
              "      <td>0</td>\n",
              "      <td>0</td>\n",
              "      <td>0</td>\n",
              "      <td>0</td>\n",
              "      <td>0</td>\n",
              "      <td>0</td>\n",
              "    </tr>\n",
              "  </tbody>\n",
              "</table>\n",
              "</div>"
            ],
            "text/plain": [
              "   Ciencia y Tecnología  Consejería Jurídica  ...  Turismo  Órganos Autónomos\n",
              "0                     0                    0  ...        0                  0\n",
              "1                     0                    0  ...        0                  0\n",
              "2                     0                    0  ...        0                  0\n",
              "4                     0                    0  ...        0                  0\n",
              "5                     0                    0  ...        0                  0\n",
              "\n",
              "[5 rows x 25 columns]"
            ]
          },
          "metadata": {},
          "execution_count": 36
        }
      ]
    },
    {
      "cell_type": "code",
      "metadata": {
        "id": "6JuUPb9m3Owm"
      },
      "source": [
        "sector_fuente_esp = pd.concat([data_gob_2018['fuente_especifica'], dummies_sector], axis=1)"
      ],
      "execution_count": 37,
      "outputs": []
    },
    {
      "cell_type": "code",
      "metadata": {
        "colab": {
          "base_uri": "https://localhost:8080/",
          "height": 382
        },
        "id": "daO-bPP63ydC",
        "outputId": "971ad560-f391-4f8b-9b01-e62206e668c8"
      },
      "source": [
        "sector_fuente_esp.head()"
      ],
      "execution_count": 38,
      "outputs": [
        {
          "output_type": "execute_result",
          "data": {
            "text/html": [
              "<div>\n",
              "<style scoped>\n",
              "    .dataframe tbody tr th:only-of-type {\n",
              "        vertical-align: middle;\n",
              "    }\n",
              "\n",
              "    .dataframe tbody tr th {\n",
              "        vertical-align: top;\n",
              "    }\n",
              "\n",
              "    .dataframe thead th {\n",
              "        text-align: right;\n",
              "    }\n",
              "</style>\n",
              "<table border=\"1\" class=\"dataframe\">\n",
              "  <thead>\n",
              "    <tr style=\"text-align: right;\">\n",
              "      <th></th>\n",
              "      <th>fuente_especifica</th>\n",
              "      <th>Ciencia y Tecnología</th>\n",
              "      <th>Consejería Jurídica</th>\n",
              "      <th>Contraloría General</th>\n",
              "      <th>Cultura</th>\n",
              "      <th>Desarrollo Económico</th>\n",
              "      <th>Desarrollo Rural y equidad para las comunidades</th>\n",
              "      <th>Desarrollo Social</th>\n",
              "      <th>Desarrollo Urbano y Vivienda</th>\n",
              "      <th>Educación</th>\n",
              "      <th>Finanzas</th>\n",
              "      <th>Gobierno</th>\n",
              "      <th>Medio Ambiente</th>\n",
              "      <th>Obras y Servicios</th>\n",
              "      <th>Oficialía Mayor</th>\n",
              "      <th>Poder Judicial</th>\n",
              "      <th>Poder Legislativo</th>\n",
              "      <th>Procuraduría Ambiental y del Ordenamiento Territorial</th>\n",
              "      <th>Procuraduría General de Justicia</th>\n",
              "      <th>Protección Civil</th>\n",
              "      <th>Salud</th>\n",
              "      <th>Seguridad Ciudadana</th>\n",
              "      <th>Subsidios</th>\n",
              "      <th>Transportes y Vialidad</th>\n",
              "      <th>Turismo</th>\n",
              "      <th>Órganos Autónomos</th>\n",
              "    </tr>\n",
              "  </thead>\n",
              "  <tbody>\n",
              "    <tr>\n",
              "      <th>0</th>\n",
              "      <td>Fondo General de Participaciones</td>\n",
              "      <td>0</td>\n",
              "      <td>0</td>\n",
              "      <td>0</td>\n",
              "      <td>0</td>\n",
              "      <td>0</td>\n",
              "      <td>0</td>\n",
              "      <td>0</td>\n",
              "      <td>0</td>\n",
              "      <td>0</td>\n",
              "      <td>0</td>\n",
              "      <td>1</td>\n",
              "      <td>0</td>\n",
              "      <td>0</td>\n",
              "      <td>0</td>\n",
              "      <td>0</td>\n",
              "      <td>0</td>\n",
              "      <td>0</td>\n",
              "      <td>0</td>\n",
              "      <td>0</td>\n",
              "      <td>0</td>\n",
              "      <td>0</td>\n",
              "      <td>0</td>\n",
              "      <td>0</td>\n",
              "      <td>0</td>\n",
              "      <td>0</td>\n",
              "    </tr>\n",
              "    <tr>\n",
              "      <th>1</th>\n",
              "      <td>Fondo General de Participaciones</td>\n",
              "      <td>0</td>\n",
              "      <td>0</td>\n",
              "      <td>0</td>\n",
              "      <td>0</td>\n",
              "      <td>0</td>\n",
              "      <td>0</td>\n",
              "      <td>0</td>\n",
              "      <td>0</td>\n",
              "      <td>0</td>\n",
              "      <td>0</td>\n",
              "      <td>1</td>\n",
              "      <td>0</td>\n",
              "      <td>0</td>\n",
              "      <td>0</td>\n",
              "      <td>0</td>\n",
              "      <td>0</td>\n",
              "      <td>0</td>\n",
              "      <td>0</td>\n",
              "      <td>0</td>\n",
              "      <td>0</td>\n",
              "      <td>0</td>\n",
              "      <td>0</td>\n",
              "      <td>0</td>\n",
              "      <td>0</td>\n",
              "      <td>0</td>\n",
              "    </tr>\n",
              "    <tr>\n",
              "      <th>2</th>\n",
              "      <td>Fondo General de Participaciones</td>\n",
              "      <td>0</td>\n",
              "      <td>0</td>\n",
              "      <td>0</td>\n",
              "      <td>0</td>\n",
              "      <td>0</td>\n",
              "      <td>0</td>\n",
              "      <td>0</td>\n",
              "      <td>0</td>\n",
              "      <td>0</td>\n",
              "      <td>0</td>\n",
              "      <td>1</td>\n",
              "      <td>0</td>\n",
              "      <td>0</td>\n",
              "      <td>0</td>\n",
              "      <td>0</td>\n",
              "      <td>0</td>\n",
              "      <td>0</td>\n",
              "      <td>0</td>\n",
              "      <td>0</td>\n",
              "      <td>0</td>\n",
              "      <td>0</td>\n",
              "      <td>0</td>\n",
              "      <td>0</td>\n",
              "      <td>0</td>\n",
              "      <td>0</td>\n",
              "    </tr>\n",
              "    <tr>\n",
              "      <th>4</th>\n",
              "      <td>Fondo General de Participaciones</td>\n",
              "      <td>0</td>\n",
              "      <td>0</td>\n",
              "      <td>0</td>\n",
              "      <td>0</td>\n",
              "      <td>0</td>\n",
              "      <td>0</td>\n",
              "      <td>0</td>\n",
              "      <td>0</td>\n",
              "      <td>0</td>\n",
              "      <td>0</td>\n",
              "      <td>1</td>\n",
              "      <td>0</td>\n",
              "      <td>0</td>\n",
              "      <td>0</td>\n",
              "      <td>0</td>\n",
              "      <td>0</td>\n",
              "      <td>0</td>\n",
              "      <td>0</td>\n",
              "      <td>0</td>\n",
              "      <td>0</td>\n",
              "      <td>0</td>\n",
              "      <td>0</td>\n",
              "      <td>0</td>\n",
              "      <td>0</td>\n",
              "      <td>0</td>\n",
              "    </tr>\n",
              "    <tr>\n",
              "      <th>5</th>\n",
              "      <td>Fondo General de Participaciones</td>\n",
              "      <td>0</td>\n",
              "      <td>0</td>\n",
              "      <td>0</td>\n",
              "      <td>0</td>\n",
              "      <td>0</td>\n",
              "      <td>0</td>\n",
              "      <td>0</td>\n",
              "      <td>0</td>\n",
              "      <td>0</td>\n",
              "      <td>0</td>\n",
              "      <td>1</td>\n",
              "      <td>0</td>\n",
              "      <td>0</td>\n",
              "      <td>0</td>\n",
              "      <td>0</td>\n",
              "      <td>0</td>\n",
              "      <td>0</td>\n",
              "      <td>0</td>\n",
              "      <td>0</td>\n",
              "      <td>0</td>\n",
              "      <td>0</td>\n",
              "      <td>0</td>\n",
              "      <td>0</td>\n",
              "      <td>0</td>\n",
              "      <td>0</td>\n",
              "    </tr>\n",
              "  </tbody>\n",
              "</table>\n",
              "</div>"
            ],
            "text/plain": [
              "                  fuente_especifica  ...  Órganos Autónomos\n",
              "0  Fondo General de Participaciones  ...                  0\n",
              "1  Fondo General de Participaciones  ...                  0\n",
              "2  Fondo General de Participaciones  ...                  0\n",
              "4  Fondo General de Participaciones  ...                  0\n",
              "5  Fondo General de Participaciones  ...                  0\n",
              "\n",
              "[5 rows x 26 columns]"
            ]
          },
          "metadata": {},
          "execution_count": 38
        }
      ]
    },
    {
      "cell_type": "markdown",
      "metadata": {
        "id": "GlA9IOYbsVeE"
      },
      "source": [
        "# Exploración Visual de Datos 04/10/2121\n",
        "\n",
        "[LINK](https://www.youtube.com/watch?v=4vcLbPIEJng)\n",
        "\n",
        "*   Gráficos de Caja\n",
        "*   Gráficos de Violin\n",
        "*   Histogramas\n",
        "*   Gráficos de Barra\n",
        "\n"
      ]
    }
  ]
}